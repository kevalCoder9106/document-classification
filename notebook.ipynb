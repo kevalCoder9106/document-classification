{
 "cells": [
  {
   "cell_type": "code",
   "execution_count": 75,
   "metadata": {},
   "outputs": [],
   "source": [
    "import os\n",
    "\n",
    "inputs = []\n",
    "label = []\n",
    "\n",
    "classes = []\n",
    "\n",
    "dirts = 'ws_data'\n",
    "\n",
    "for dirt in os.listdir(dirts):\n",
    "    files_path = os.path.join(dirts, dirt)\n",
    "    for file in os.listdir(files_path):\n",
    "        text = ''\n",
    "        file_path = os.path.join(files_path, file)\n",
    "        with open(file_path, 'r', encoding='utf-8') as f:\n",
    "            for l in f:\n",
    "                text = text + l\n",
    "\n",
    "        if text.strip() != '':\n",
    "            inputs.append(text)\n",
    "            label.append(dirt)"
   ]
  },
  {
   "cell_type": "markdown",
   "metadata": {},
   "source": [
    "### Preprocessing"
   ]
  },
  {
   "cell_type": "code",
   "execution_count": 86,
   "metadata": {},
   "outputs": [
    {
     "data": {
      "text/plain": [
       "['Health', 'Art & Science', 'Goverment & Politics', 'Finance']"
      ]
     },
     "execution_count": 86,
     "metadata": {},
     "output_type": "execute_result"
    }
   ],
   "source": [
    "import pandas as pd\n",
    "\n",
    "docs = pd.DataFrame()\n",
    "docs['text'] = inputs\n",
    "docs['class'] = label\n",
    "classes = docs['class'].unique().tolist()\n",
    "\n",
    "classes"
   ]
  },
  {
   "cell_type": "markdown",
   "metadata": {},
   "source": [
    "### Extracting Features"
   ]
  },
  {
   "cell_type": "code",
   "execution_count": 77,
   "metadata": {},
   "outputs": [],
   "source": [
    "from sklearn.feature_extraction.text import CountVectorizer\n",
    "from sklearn.feature_extraction import text\n",
    "\n",
    "stop_words = text.ENGLISH_STOP_WORDS.union()\n",
    "count_vect = CountVectorizer(token_pattern=\"[^\\W\\d_]+\")\n",
    "train_data_features = count_vect.fit_transform(docs['text'])\n",
    "\n",
    "def preprocess_file(file_path):\n",
    "    text = ''\n",
    "    with open(file_path, 'r', errors='ignore') as f:\n",
    "        for l in f:\n",
    "            text = l + ' '\n",
    "    return count_vect.transform([text])\n",
    "\n",
    "def preprocess(input):\n",
    "    return count_vect.transform(input)"
   ]
  },
  {
   "cell_type": "markdown",
   "metadata": {},
   "source": [
    "### Using Multinomial Naive Bayes Model from sklearn"
   ]
  },
  {
   "cell_type": "code",
   "execution_count": 78,
   "metadata": {},
   "outputs": [],
   "source": [
    "from sklearn.model_selection import train_test_split\n",
    "from sklearn.naive_bayes import MultinomialNB\n",
    "\n",
    "docs['class'] = docs['class'].replace(docs['class'].unique().tolist(), range(0, len(docs['class'].unique())))\n",
    "X = train_data_features.toarray()\n",
    "Y = docs['class'].tolist()\n",
    "\n",
    "x, _x, y, _y = train_test_split(X, Y, test_size=0.1, random_state=42)\n",
    "\n",
    "clf = MultinomialNB()\n",
    "_ = clf.fit(x, y)"
   ]
  },
  {
   "cell_type": "markdown",
   "metadata": {},
   "source": [
    "### Testing the Model"
   ]
  },
  {
   "cell_type": "code",
   "execution_count": 79,
   "metadata": {},
   "outputs": [
    {
     "name": "stdout",
     "output_type": "stream",
     "text": [
      "               category  accuracy (%)\n",
      "0                Health          72.7\n",
      "1         Art & Science          98.2\n",
      "2  Goverment & Politics          70.7\n",
      "3               Finance          77.3 \n",
      "\n",
      "Total Accuracy:  80.0 %\n"
     ]
    }
   ],
   "source": [
    "from sklearn.metrics import confusion_matrix\n",
    "import numpy as np\n",
    "\n",
    "yhat = clf.predict(_x)\n",
    "matrix = confusion_matrix(_y, yhat)\n",
    "accuracy = (matrix.diagonal() / matrix.sum(axis=1)) * 100\n",
    "\n",
    "acc_table = pd.DataFrame()\n",
    "acc_table['category'] = classes\n",
    "acc_table['accuracy (%)'] = accuracy.round(1)\n",
    "\n",
    "print(acc_table, '\\n\\nTotal Accuracy: ', (np.mean(yhat == _y)).round(1) * 100, '%')"
   ]
  },
  {
   "cell_type": "markdown",
   "metadata": {},
   "source": [
    "### Manual Test"
   ]
  },
  {
   "cell_type": "code",
   "execution_count": 1,
   "metadata": {},
   "outputs": [
    {
     "ename": "NameError",
     "evalue": "name 'preprocess' is not defined",
     "output_type": "error",
     "traceback": [
      "\u001b[0;31m---------------------------------------------------------------------------\u001b[0m",
      "\u001b[0;31mNameError\u001b[0m                                 Traceback (most recent call last)",
      "\u001b[1;32m/home/keval/Projects/document_classifier/notebook.ipynb Cell 11\u001b[0m in \u001b[0;36m<cell line: 3>\u001b[0;34m()\u001b[0m\n\u001b[1;32m      <a href='vscode-notebook-cell:/home/keval/Projects/document_classifier/notebook.ipynb#X13sZmlsZQ%3D%3D?line=0'>1</a>\u001b[0m docs_text \u001b[39m=\u001b[39m [\u001b[39m'\u001b[39m\u001b[39m'\u001b[39m]\n\u001b[0;32m----> <a href='vscode-notebook-cell:/home/keval/Projects/document_classifier/notebook.ipynb#X13sZmlsZQ%3D%3D?line=2'>3</a>\u001b[0m p_docs_text \u001b[39m=\u001b[39m preprocess(docs_text)\n\u001b[1;32m      <a href='vscode-notebook-cell:/home/keval/Projects/document_classifier/notebook.ipynb#X13sZmlsZQ%3D%3D?line=3'>4</a>\u001b[0m index \u001b[39m=\u001b[39m clf\u001b[39m.\u001b[39mpredict(p_docs_text)[\u001b[39m0\u001b[39m]\n\u001b[1;32m      <a href='vscode-notebook-cell:/home/keval/Projects/document_classifier/notebook.ipynb#X13sZmlsZQ%3D%3D?line=4'>5</a>\u001b[0m \u001b[39mprint\u001b[39m(classes[index])\n",
      "\u001b[0;31mNameError\u001b[0m: name 'preprocess' is not defined"
     ]
    }
   ],
   "source": [
    "docs_text = ['']\n",
    "\n",
    "p_docs_text = preprocess(docs_text)\n",
    "index = clf.predict(p_docs_text)[0]\n",
    "print(classes[index])"
   ]
  },
  {
   "cell_type": "code",
   "execution_count": null,
   "metadata": {},
   "outputs": [],
   "source": []
  }
 ],
 "metadata": {
  "kernelspec": {
   "display_name": "Python 3.9.13 ('ml')",
   "language": "python",
   "name": "python3"
  },
  "language_info": {
   "codemirror_mode": {
    "name": "ipython",
    "version": 3
   },
   "file_extension": ".py",
   "mimetype": "text/x-python",
   "name": "python",
   "nbconvert_exporter": "python",
   "pygments_lexer": "ipython3",
   "version": "3.9.13"
  },
  "orig_nbformat": 4,
  "vscode": {
   "interpreter": {
    "hash": "a5355d6f3838e20033a1cbb9b44a947abc53cfdff1703ddcf214ba634ed7f1d5"
   }
  }
 },
 "nbformat": 4,
 "nbformat_minor": 2
}
