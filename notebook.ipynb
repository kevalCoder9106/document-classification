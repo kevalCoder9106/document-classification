{
 "cells": [
  {
   "cell_type": "code",
   "execution_count": 1,
   "metadata": {},
   "outputs": [],
   "source": [
    "import os\n",
    "\n",
    "inputs = []\n",
    "label = []\n",
    "\n",
    "dirts = 'ws_data'\n",
    "\n",
    "for dirt in os.listdir(dirts):\n",
    "    files_path = os.path.join(dirts, dirt)\n",
    "    for file in os.listdir(files_path):\n",
    "        text = ''\n",
    "        file_path = os.path.join(files_path, file)\n",
    "        with open(file_path, 'r', errors='ignore') as f:\n",
    "            for l in f:\n",
    "                text = l + ' '\n",
    "\n",
    "        if text.strip() != '':\n",
    "            inputs.append(text)\n",
    "            label.append(dirt)"
   ]
  },
  {
   "cell_type": "markdown",
   "metadata": {},
   "source": [
    "### Preprocessing"
   ]
  },
  {
   "cell_type": "code",
   "execution_count": 2,
   "metadata": {},
   "outputs": [
    {
     "data": {
      "text/html": [
       "<div>\n",
       "<style scoped>\n",
       "    .dataframe tbody tr th:only-of-type {\n",
       "        vertical-align: middle;\n",
       "    }\n",
       "\n",
       "    .dataframe tbody tr th {\n",
       "        vertical-align: top;\n",
       "    }\n",
       "\n",
       "    .dataframe thead th {\n",
       "        text-align: right;\n",
       "    }\n",
       "</style>\n",
       "<table border=\"1\" class=\"dataframe\">\n",
       "  <thead>\n",
       "    <tr style=\"text-align: right;\">\n",
       "      <th></th>\n",
       "      <th>text</th>\n",
       "      <th>class</th>\n",
       "    </tr>\n",
       "  </thead>\n",
       "  <tbody>\n",
       "    <tr>\n",
       "      <th>0</th>\n",
       "      <td>As is clear to anyone who pays medical insuran...</td>\n",
       "      <td>Health</td>\n",
       "    </tr>\n",
       "    <tr>\n",
       "      <th>1</th>\n",
       "      <td>The health insurance system in the United Stat...</td>\n",
       "      <td>Health</td>\n",
       "    </tr>\n",
       "    <tr>\n",
       "      <th>2</th>\n",
       "      <td>COVID-19’s impacts on workers and workplaces a...</td>\n",
       "      <td>Health</td>\n",
       "    </tr>\n",
       "    <tr>\n",
       "      <th>3</th>\n",
       "      <td>Months of binge watching, doom scrolling, home...</td>\n",
       "      <td>Health</td>\n",
       "    </tr>\n",
       "    <tr>\n",
       "      <th>4</th>\n",
       "      <td>All organizations now practice some form of ri...</td>\n",
       "      <td>Health</td>\n",
       "    </tr>\n",
       "    <tr>\n",
       "      <th>...</th>\n",
       "      <td>...</td>\n",
       "      <td>...</td>\n",
       "    </tr>\n",
       "    <tr>\n",
       "      <th>1131</th>\n",
       "      <td>When we wonder whether money can buy happiness...</td>\n",
       "      <td>Finance</td>\n",
       "    </tr>\n",
       "    <tr>\n",
       "      <th>1132</th>\n",
       "      <td>With executive compensation soaring to unprece...</td>\n",
       "      <td>Finance</td>\n",
       "    </tr>\n",
       "    <tr>\n",
       "      <th>1133</th>\n",
       "      <td>Credential of Readiness (CORe) program launche...</td>\n",
       "      <td>Finance</td>\n",
       "    </tr>\n",
       "    <tr>\n",
       "      <th>1134</th>\n",
       "      <td>The duration of a vertical relationship depend...</td>\n",
       "      <td>Finance</td>\n",
       "    </tr>\n",
       "    <tr>\n",
       "      <th>1135</th>\n",
       "      <td>On important occasions, we gather for family p...</td>\n",
       "      <td>Finance</td>\n",
       "    </tr>\n",
       "  </tbody>\n",
       "</table>\n",
       "<p>1136 rows × 2 columns</p>\n",
       "</div>"
      ],
      "text/plain": [
       "                                                   text    class\n",
       "0     As is clear to anyone who pays medical insuran...   Health\n",
       "1     The health insurance system in the United Stat...   Health\n",
       "2     COVID-19’s impacts on workers and workplaces a...   Health\n",
       "3     Months of binge watching, doom scrolling, home...   Health\n",
       "4     All organizations now practice some form of ri...   Health\n",
       "...                                                 ...      ...\n",
       "1131  When we wonder whether money can buy happiness...  Finance\n",
       "1132  With executive compensation soaring to unprece...  Finance\n",
       "1133  Credential of Readiness (CORe) program launche...  Finance\n",
       "1134  The duration of a vertical relationship depend...  Finance\n",
       "1135  On important occasions, we gather for family p...  Finance\n",
       "\n",
       "[1136 rows x 2 columns]"
      ]
     },
     "execution_count": 2,
     "metadata": {},
     "output_type": "execute_result"
    }
   ],
   "source": [
    "import pandas as pd\n",
    "\n",
    "docs = pd.DataFrame()\n",
    "docs['text'] = inputs\n",
    "docs['class'] = label\n",
    "docs"
   ]
  },
  {
   "cell_type": "markdown",
   "metadata": {},
   "source": [
    "### Extracting Features"
   ]
  },
  {
   "cell_type": "code",
   "execution_count": 3,
   "metadata": {},
   "outputs": [],
   "source": [
    "from sklearn.feature_extraction.text import CountVectorizer\n",
    "from sklearn.feature_extraction import text\n",
    "\n",
    "stop_words = text.ENGLISH_STOP_WORDS.union()\n",
    "count_vect = CountVectorizer(token_pattern=\"[^\\W\\d_]+\")\n",
    "train_data_features = count_vect.fit_transform(docs['text'])\n",
    "\n",
    "def preprocess_file(file_path):\n",
    "    text = ''\n",
    "    with open(file_path, 'r', errors='ignore') as f:\n",
    "        for l in f:\n",
    "            text = l + ' '\n",
    "    return count_vect.transform([text])\n",
    "\n",
    "def preprocess(input):\n",
    "    return count_vect.transform(input)"
   ]
  },
  {
   "cell_type": "markdown",
   "metadata": {},
   "source": [
    "### Using Multinomial Naive Bayes Model from sklearn"
   ]
  },
  {
   "cell_type": "code",
   "execution_count": 4,
   "metadata": {},
   "outputs": [],
   "source": [
    "from sklearn.model_selection import train_test_split\n",
    "from sklearn.naive_bayes import MultinomialNB\n",
    "\n",
    "docs['class'] = docs['class'].replace(docs['class'].unique().tolist(), range(0, len(docs['class'].unique())))\n",
    "X = train_data_features.toarray()\n",
    "Y = docs['class'].tolist()\n",
    "\n",
    "x, _x, y, _y = train_test_split(X, Y, test_size=0.1, random_state=42)\n",
    "\n",
    "clf = MultinomialNB()\n",
    "_ = clf.fit(x, y)"
   ]
  },
  {
   "cell_type": "markdown",
   "metadata": {},
   "source": [
    "### Testing the Model"
   ]
  },
  {
   "cell_type": "code",
   "execution_count": 5,
   "metadata": {},
   "outputs": [
    {
     "data": {
      "text/html": [
       "<div>\n",
       "<style scoped>\n",
       "    .dataframe tbody tr th:only-of-type {\n",
       "        vertical-align: middle;\n",
       "    }\n",
       "\n",
       "    .dataframe tbody tr th {\n",
       "        vertical-align: top;\n",
       "    }\n",
       "\n",
       "    .dataframe thead th {\n",
       "        text-align: right;\n",
       "    }\n",
       "</style>\n",
       "<table border=\"1\" class=\"dataframe\">\n",
       "  <thead>\n",
       "    <tr style=\"text-align: right;\">\n",
       "      <th></th>\n",
       "      <th>category</th>\n",
       "      <th>accuracy (%)</th>\n",
       "    </tr>\n",
       "  </thead>\n",
       "  <tbody>\n",
       "    <tr>\n",
       "      <th>0</th>\n",
       "      <td>0</td>\n",
       "      <td>73.7</td>\n",
       "    </tr>\n",
       "    <tr>\n",
       "      <th>1</th>\n",
       "      <td>1</td>\n",
       "      <td>56.9</td>\n",
       "    </tr>\n",
       "    <tr>\n",
       "      <th>2</th>\n",
       "      <td>2</td>\n",
       "      <td>86.4</td>\n",
       "    </tr>\n",
       "  </tbody>\n",
       "</table>\n",
       "</div>"
      ],
      "text/plain": [
       "   category  accuracy (%)\n",
       "0         0          73.7\n",
       "1         1          56.9\n",
       "2         2          86.4"
      ]
     },
     "execution_count": 5,
     "metadata": {},
     "output_type": "execute_result"
    }
   ],
   "source": [
    "from sklearn.metrics import confusion_matrix\n",
    "\n",
    "yhat = clf.predict(_x)\n",
    "matrix = confusion_matrix(_y, yhat)\n",
    "accuracy = (matrix.diagonal() / matrix.sum(axis=1)) * 100\n",
    "\n",
    "acc_table = pd.DataFrame()\n",
    "acc_table['category'] = docs['class'].unique()\n",
    "acc_table['accuracy (%)'] = accuracy.round(1)\n",
    "\n",
    "acc_table"
   ]
  }
 ],
 "metadata": {
  "kernelspec": {
   "display_name": "Python 3.9.13 ('ml')",
   "language": "python",
   "name": "python3"
  },
  "language_info": {
   "codemirror_mode": {
    "name": "ipython",
    "version": 3
   },
   "file_extension": ".py",
   "mimetype": "text/x-python",
   "name": "python",
   "nbconvert_exporter": "python",
   "pygments_lexer": "ipython3",
   "version": "3.9.13"
  },
  "orig_nbformat": 4,
  "vscode": {
   "interpreter": {
    "hash": "a5355d6f3838e20033a1cbb9b44a947abc53cfdff1703ddcf214ba634ed7f1d5"
   }
  }
 },
 "nbformat": 4,
 "nbformat_minor": 2
}
